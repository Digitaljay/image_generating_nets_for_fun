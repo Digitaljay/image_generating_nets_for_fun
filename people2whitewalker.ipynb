{
  "nbformat": 4,
  "nbformat_minor": 0,
  "metadata": {
    "colab": {
      "name": "people2whitewalker.ipynb",
      "provenance": [],
      "collapsed_sections": [],
      "toc_visible": true
    },
    "kernelspec": {
      "name": "python3",
      "display_name": "Python 3"
    }
  },
  "cells": [
    {
      "cell_type": "markdown",
      "metadata": {
        "id": "kXvBpanf2U2B",
        "colab_type": "text"
      },
      "source": [
        "# Превращаем людей в белых ходоков и обратно\n"
      ]
    },
    {
      "cell_type": "markdown",
      "metadata": {
        "id": "6mf9QYh113JX",
        "colab_type": "text"
      },
      "source": [
        "Работа фаната Игры Престолов: что было бы, если в детсятве героев их младенцами забрали белые ходоки? Как бы они выглядели? А как бы выглядили сами ходоки, если бы их судьба сложилась по-другому?\n",
        "Сейчас узнаем."
      ]
    },
    {
      "cell_type": "markdown",
      "metadata": {
        "id": "709MJad12eRV",
        "colab_type": "text"
      },
      "source": [
        "Для начала установим и импортируем нужные нам библиотеки:"
      ]
    },
    {
      "cell_type": "code",
      "metadata": {
        "id": "v8GVKsMMBoo3",
        "colab_type": "code",
        "outputId": "05081050-a73b-47e9-b8bf-43eb11978c7d",
        "colab": {
          "base_uri": "https://localhost:8080/",
          "height": 151
        }
      },
      "source": [
        "!pip3 install torch torchvision\n",
        "!pip3 install pillow==4.1.1"
      ],
      "execution_count": 0,
      "outputs": [
        {
          "output_type": "stream",
          "text": [
            "Requirement already satisfied: torch in /usr/local/lib/python3.6/dist-packages (1.5.0+cu101)\n",
            "Requirement already satisfied: torchvision in /usr/local/lib/python3.6/dist-packages (0.6.0+cu101)\n",
            "Requirement already satisfied: future in /usr/local/lib/python3.6/dist-packages (from torch) (0.16.0)\n",
            "Requirement already satisfied: numpy in /usr/local/lib/python3.6/dist-packages (from torch) (1.18.5)\n",
            "Requirement already satisfied: pillow>=4.1.1 in /usr/local/lib/python3.6/dist-packages (from torchvision) (4.1.1)\n",
            "Requirement already satisfied: olefile in /usr/local/lib/python3.6/dist-packages (from pillow>=4.1.1->torchvision) (0.46)\n",
            "Requirement already satisfied: pillow==4.1.1 in /usr/local/lib/python3.6/dist-packages (4.1.1)\n",
            "Requirement already satisfied: olefile in /usr/local/lib/python3.6/dist-packages (from pillow==4.1.1) (0.46)\n"
          ],
          "name": "stdout"
        }
      ]
    },
    {
      "cell_type": "code",
      "metadata": {
        "id": "7P6d96CdBpZY",
        "colab_type": "code",
        "colab": {}
      },
      "source": [
        "%matplotlib inline\n",
        "from PIL import Image\n",
        "\n",
        "\n",
        "import torch\n",
        "import torch.nn as nn\n",
        "import torch.nn.functional as F\n",
        "import torch.optim as optim\n",
        "\n",
        "import matplotlib.pyplot as plt\n",
        "\n",
        "\n",
        "import torchvision.transforms as transforms\n",
        "import torchvision.models as models\n",
        "\n",
        "import copy"
      ],
      "execution_count": 0,
      "outputs": []
    },
    {
      "cell_type": "markdown",
      "metadata": {
        "id": "dsdtNROh2nHz",
        "colab_type": "text"
      },
      "source": [
        "# Получаем датасеты"
      ]
    },
    {
      "cell_type": "markdown",
      "metadata": {
        "id": "2tpoMr2B2rID",
        "colab_type": "text"
      },
      "source": [
        "Здесь пришлось повозиться, но в итоге - вот что у меня получилось. Потом решила, что можно уже здесь архив распаковывать, но и эта реализация имеет право на существование, в целом - без разницы."
      ]
    },
    {
      "cell_type": "markdown",
      "metadata": {
        "id": "9txhkxgc2_VV",
        "colab_type": "text"
      },
      "source": [
        "Чтобы запустить ноутбук не вникая в смысл путей к файлам и тд - дальше будут некоторые комментарии по поводу путей к файлам"
      ]
    },
    {
      "cell_type": "code",
      "metadata": {
        "id": "Jn3W2uR_Ebun",
        "colab_type": "code",
        "outputId": "6709ba1d-686b-4444-bb8e-fbe68d645823",
        "colab": {
          "base_uri": "https://localhost:8080/",
          "height": 121
        }
      },
      "source": [
        "from google.colab import drive  #чтобы получить доступ к файлам на нашем гугл диске\n",
        "drive.mount('/content/gdrive') "
      ],
      "execution_count": 0,
      "outputs": [
        {
          "output_type": "stream",
          "text": [
            "Go to this URL in a browser: https://accounts.google.com/o/oauth2/auth?client_id=947318989803-6bn6qk8qdgf4n4g3pfee6491hc0brc4i.apps.googleusercontent.com&redirect_uri=urn%3aietf%3awg%3aoauth%3a2.0%3aoob&response_type=code&scope=email%20https%3a%2f%2fwww.googleapis.com%2fauth%2fdocs.test%20https%3a%2f%2fwww.googleapis.com%2fauth%2fdrive%20https%3a%2f%2fwww.googleapis.com%2fauth%2fdrive.photos.readonly%20https%3a%2f%2fwww.googleapis.com%2fauth%2fpeopleapi.readonly\n",
            "\n",
            "Enter your authorization code:\n",
            "··········\n",
            "Mounted at /content/gdrive\n"
          ],
          "name": "stdout"
        }
      ]
    },
    {
      "cell_type": "markdown",
      "metadata": {
        "id": "pAK2jAVT3hOW",
        "colab_type": "text"
      },
      "source": [
        "Здесь тоже нужно авторизироваться, это нужно, чтобы получить список файлов (картинок) в конкретной папке"
      ]
    },
    {
      "cell_type": "code",
      "metadata": {
        "id": "7BScdwrdhRXr",
        "colab_type": "code",
        "colab": {}
      },
      "source": [
        "!pip install -U -q PyDrive\n",
        "import os\n",
        "from pydrive.auth import GoogleAuth\n",
        "from pydrive.drive import GoogleDrive\n",
        "from google.colab import auth\n",
        "from oauth2client.client import GoogleCredentials\n",
        "\n",
        "auth.authenticate_user()\n",
        "gauth = GoogleAuth()\n",
        "gauth.credentials = GoogleCredentials.get_application_default()\n",
        "drive = GoogleDrive(gauth)\n",
        "\n",
        "local_download_path = os.path.expanduser('~/data')\n",
        "try:\n",
        "     os.makedirs(local_download_path)\n",
        "except: pass\n",
        "\n"
      ],
      "execution_count": 0,
      "outputs": []
    },
    {
      "cell_type": "markdown",
      "metadata": {
        "id": "jfi8ZQvH3xGX",
        "colab_type": "text"
      },
      "source": [
        "Вот тут внимательно:\n",
        "\n",
        "\n",
        "1.   Открываете папку hodocs на google drive.\n",
        "2.   Вверху, в качестве ссылки видите что-то вроде https://drive.google.com/drive/folders/1nVCY_S_SCJSffvXhg-HNd0jy2RNOuGFb, та часть, которая после folders/ нам и нужна.\n",
        "3.   Прописываем эту часть пути к файлам в одинарных ковычках у file_list_h\n",
        "4. Эту же операцию повторяем с папкой people и file_list_p\n",
        "\n"
      ]
    },
    {
      "cell_type": "code",
      "metadata": {
        "id": "QSR6d4etuO0f",
        "colab_type": "code",
        "colab": {}
      },
      "source": [
        "file_list_h = drive.ListFile(\n",
        "       {'q': \"'1nVCY_S_SCJSffvXhg-HNd0jy2RNOuGFb' in parents\"}).GetList()\n",
        "\n",
        "file_list_p = drive.ListFile(\n",
        "       {'q': \"'1hyMLRCOA2ISuaOrmEcu_2eJP3xNFMJiy' in parents\"}).GetList()"
      ],
      "execution_count": 0,
      "outputs": []
    },
    {
      "cell_type": "code",
      "metadata": {
        "id": "bG_LbRWvnZ4c",
        "colab_type": "code",
        "colab": {}
      },
      "source": [
        "imsize = 512\n",
        "\n",
        "loader = transforms.Compose([\n",
        "    transforms.Resize(imsize),\n",
        "    transforms.ColorJitter(brightness=(0.75,1.25), contrast=(0.75,1.25), saturation=0, hue=(0.75,1.25)), # так как датасеты очень небольшие, так как у ходоков, к сожалению, мало \n",
        "    transforms.CenterCrop(imsize),                                                                       # экранного времени, то делаем ауги=ментацию\n",
        "    transforms.ToTensor()]) "
      ],
      "execution_count": 0,
      "outputs": []
    },
    {
      "cell_type": "code",
      "metadata": {
        "id": "K5iGUqLKnbBE",
        "colab_type": "code",
        "colab": {}
      },
      "source": [
        "device = torch.device(\"cuda\" if torch.cuda.is_available() else \"cpu\")   # переносим вычисления и данные на gpu\n",
        "def image_loader(image_name):\n",
        "    image = Image.open(image_name).convert('RGB')   # есть png картинки, поэтому приходится приводить к RGB\n",
        "    image = loader(image).unsqueeze(0)\n",
        "    return image.to(device, torch.float)"
      ],
      "execution_count": 0,
      "outputs": []
    },
    {
      "cell_type": "code",
      "metadata": {
        "id": "xIfkArvon6CL",
        "colab_type": "code",
        "colab": {}
      },
      "source": [
        "unloader = transforms.ToPILImage() # тензор в кратинку  \n",
        "\n",
        "plt.ion() \n",
        "\n",
        "def imshow(tensor, title=None):\n",
        "    image = tensor.cpu().clone()   \n",
        "    image = image.squeeze(0)      # функция для отрисовки изображения\n",
        "    image = unloader(image)\n",
        "    plt.imshow(image)\n",
        "    if title is not None:\n",
        "        plt.title(title)\n",
        "    plt.pause(0.001) \n"
      ],
      "execution_count": 0,
      "outputs": []
    },
    {
      "cell_type": "code",
      "metadata": {
        "id": "g5HTVFNgrJiC",
        "colab_type": "code",
        "colab": {}
      },
      "source": [
        "from torch.utils.data import DataLoader\n",
        "batch_size = 25   # определим размер батчей"
      ],
      "execution_count": 0,
      "outputs": []
    },
    {
      "cell_type": "code",
      "metadata": {
        "id": "ogCQKeITku8W",
        "colab_type": "code",
        "colab": {}
      },
      "source": [
        "# Эта ячейка работает если папки hodocs и people лежат в корневом каталоге. Если возникает ошибка - поменяйте ваши пути к папкам\n",
        "hodocs=[]\n",
        "for img in file_list_h:\n",
        "  fname = os.path.join(local_download_path, img['title']).split(\"/\")[-1]\n",
        "  style_img = image_loader(\"gdrive/My Drive/hodocs/\"+fname)\n",
        "  hodocs.append(style_img)\n",
        "\n",
        "people=[]\n",
        "for img in file_list_p:\n",
        "  fname = os.path.join(local_download_path, img['title']).split(\"/\")[-1]\n",
        "  style_img = image_loader(\"gdrive/My Drive/people/\"+fname)\n",
        "  people.append(style_img)\n"
      ],
      "execution_count": 0,
      "outputs": []
    },
    {
      "cell_type": "code",
      "metadata": {
        "id": "3Z8JjQ26sLc4",
        "colab_type": "code",
        "colab": {}
      },
      "source": [
        "hodocs_loader = DataLoader(hodocs, batch_size=batch_size, shuffle=True)\n",
        "people_loader = DataLoader(people, batch_size=batch_size, shuffle=True)"
      ],
      "execution_count": 0,
      "outputs": []
    },
    {
      "cell_type": "markdown",
      "metadata": {
        "id": "q22ZKoE07Kkr",
        "colab_type": "text"
      },
      "source": [
        "Итак, наши изображения получены. Приступаем к самому интересному."
      ]
    },
    {
      "cell_type": "markdown",
      "metadata": {
        "id": "MzFCd9zu7SI9",
        "colab_type": "text"
      },
      "source": [
        "# Модели для CycleGAN"
      ]
    },
    {
      "cell_type": "code",
      "metadata": {
        "id": "cZgfoj_N8IqN",
        "colab_type": "code",
        "colab": {}
      },
      "source": [
        "from torch import nn\n",
        "import torch\n",
        "from torch.nn import functional as F\n",
        "import functools\n",
        "import itertools"
      ],
      "execution_count": 0,
      "outputs": []
    },
    {
      "cell_type": "code",
      "metadata": {
        "id": "2-xWfket3yZ1",
        "colab_type": "code",
        "colab": {}
      },
      "source": [
        "class NLayerDiscriminator(nn.Module):\n",
        "    def __init__(self):\n",
        "        super(NLayerDiscriminator, self).__init__()\n",
        "        self.dis_model = nn.Sequential(\n",
        "                     nn.Conv2d(3, 64, kernel_size=4, stride=2, padding=1),\n",
        "                     nn.LeakyReLU(0.2, True),\n",
        "\n",
        "                     nn.Conv2d(64, 128, kernel_size=4, stride=2, padding=1),\n",
        "                     nn.BatchNorm2d(128),\n",
        "                     nn.LeakyReLU(0.2,True),\n",
        "\n",
        "                     nn.Conv2d(128, 256, kernel_size=4, stride=2, padding=1),\n",
        "                     nn.BatchNorm2d(256),\n",
        "                     nn.LeakyReLU(0.2,True),\n",
        "\n",
        "                     nn.Conv2d(256, 512, kernel_size=4, stride=2, padding=1),\n",
        "                     nn.BatchNorm2d(512),\n",
        "                     nn.LeakyReLU(0.2,True),\n",
        "\n",
        "                     nn.Conv2d(512, 1, kernel_size=4, stride=1, padding=1)\n",
        "\n",
        "        )\n",
        "        \n",
        "\n",
        "    def forward(self, input):\n",
        "        res=self.dis_model(input)\n",
        "        return res"
      ],
      "execution_count": 0,
      "outputs": []
    },
    {
      "cell_type": "code",
      "metadata": {
        "id": "NSSRrquL8GDh",
        "colab_type": "code",
        "colab": {}
      },
      "source": [
        "class UnetGenerator(nn.Module):\n",
        "    def __init__(self):\n",
        "        super().__init__()\n",
        "\n",
        "        # encoder (downsampling)\n",
        "        self.enc_conv0 = nn.Conv2d(in_channels=3,out_channels=32,kernel_size=3,padding=1)\n",
        "        self.pool0 = nn.Conv2d(in_channels=32,out_channels=32,kernel_size=3,padding=1,stride=2)  # 256 -> 128\n",
        "        self.enc_conv1 = nn.Conv2d(in_channels=32,out_channels=64,kernel_size=3,padding=1)\n",
        "        self.pool1 = nn.Conv2d(in_channels=64,out_channels=64,kernel_size=3,padding=1,stride=2) # 128 -> 64\n",
        "        self.enc_conv2 = nn.Conv2d(in_channels=64,out_channels=128,kernel_size=3,padding=1)\n",
        "        self.pool2 = nn.Conv2d(in_channels=128,out_channels=128,kernel_size=3,padding=1,stride=2) # 64 -> 32\n",
        "        self.enc_conv3 = nn.Conv2d(in_channels=128,out_channels=256,kernel_size=3,padding=1)\n",
        "        self.pool3 = nn.Conv2d(in_channels=256,out_channels=256,kernel_size=3,padding=1,stride=2) # 32 -> 16\n",
        "\n",
        "        # bottleneck\n",
        "        self.bottleneck_conv = nn.Conv2d(in_channels=256,out_channels=256,kernel_size=3,padding=1)\n",
        "\n",
        "        # decoder (upsampling)\n",
        "        self.upsample0 = nn.ConvTranspose2d(in_channels=256,out_channels=256,kernel_size=2, stride=2, padding=0) # 16 -> 32\n",
        "        self.dec_conv0 = nn.Conv2d(in_channels=512,out_channels=128,kernel_size=3,padding=1)\n",
        "        self.upsample1 = nn.ConvTranspose2d(in_channels=128,out_channels=128,kernel_size=2, stride=2, padding=0) # 32 -> 64\n",
        "        self.dec_conv1 = nn.Conv2d(in_channels=256,out_channels=64,kernel_size=3,padding=1)\n",
        "        self.upsample2 = nn.ConvTranspose2d(in_channels=64,out_channels=64,kernel_size=2, stride=2, padding=0)  # 64 -> 128\n",
        "        self.dec_conv2 = nn.Conv2d(in_channels=128,out_channels=32,kernel_size=3,padding=1)\n",
        "        self.upsample3 = nn.ConvTranspose2d(in_channels=32,out_channels=32,kernel_size=2, stride=2, padding=0)  # 128 -> 256\n",
        "        self.dec_conv3 = nn.Conv2d(in_channels=64,out_channels=3,kernel_size=3,padding=1)\n",
        "\n",
        "    def forward(self, x):\n",
        "        # encoder\n",
        "        c0 = F.leaky_relu(self.enc_conv0(x),0.02)\n",
        "        e0 = self.pool0(c0)\n",
        "        c1 = F.leaky_relu(self.enc_conv1(e0),0.02)\n",
        "        e1 = self.pool1(c1)\n",
        "        c2 = F.leaky_relu(self.enc_conv2(e1),0.02)\n",
        "        e2 = self.pool2(c2)\n",
        "        c3 = F.leaky_relu(self.enc_conv3(e2),0.02)\n",
        "        e3 = self.pool3(c3)\n",
        "\n",
        "        # bottleneck\n",
        "        cb=F.leaky_relu(self.bottleneck_conv(e3),0.02)\n",
        "        b = self.upsample0(cb)\n",
        "\n",
        "        # decoder\n",
        "        conc0 = torch.cat([b, c3],dim=1)\n",
        "        d0 = self.upsample1(F.leaky_relu(self.dec_conv0(conc0),0.02))\n",
        "        conc1 = torch.cat([d0, c2],dim=1)\n",
        "        d1 = self.upsample2(F.leaky_relu(self.dec_conv1(conc1),0.02))\n",
        "        conc2 = torch.cat([d1, c1],dim=1)\n",
        "        d2 = self.upsample3(F.leaky_relu(self.dec_conv2(conc2),0.02))\n",
        "        conc3 = torch.cat([d2, c0],dim=1)\n",
        "        d3 = self.dec_conv3(conc3)  # no activation\n",
        "        return d3\n"
      ],
      "execution_count": 0,
      "outputs": []
    },
    {
      "cell_type": "markdown",
      "metadata": {
        "id": "4CeU7hOe_fn2",
        "colab_type": "text"
      },
      "source": [
        "Эта штука нам понадобится, когда будем обучать дискриминаторы, чтобы ипользовать ранее сгенерированные изображения"
      ]
    },
    {
      "cell_type": "code",
      "metadata": {
        "id": "k6wYVXGHAGpq",
        "colab_type": "code",
        "colab": {}
      },
      "source": [
        "class Sample_from_Pool(object):\n",
        "    def __init__(self):\n",
        "        self.max_elements = 50\n",
        "        self.cur_elements = 0\n",
        "        self.items = []\n",
        "\n",
        "    def __call__(self, in_items):\n",
        "        return_items = []\n",
        "        for in_item in in_items:\n",
        "            if self.cur_elements < self.max_elements:\n",
        "                self.items.append(in_item)\n",
        "                self.cur_elements = self.cur_elements + 1\n",
        "                return_items.append(in_item)\n",
        "            else:\n",
        "                if np.random.ranf() > 0.5:\n",
        "                    idx = np.random.randint(0, self.max_elements)\n",
        "                    tmp = copy.copy(self.items[idx])\n",
        "                    self.items[idx] = in_item\n",
        "                    return_items.append(tmp)\n",
        "                else:\n",
        "                    return_items.append(in_item)\n",
        "        return return_items"
      ],
      "execution_count": 0,
      "outputs": []
    },
    {
      "cell_type": "markdown",
      "metadata": {
        "id": "4sOidQ6e7_yW",
        "colab_type": "text"
      },
      "source": [
        "# Вишенка на торте - функция обучения модели."
      ]
    },
    {
      "cell_type": "code",
      "metadata": {
        "id": "iGp7yW-iF_do",
        "colab_type": "code",
        "colab": {}
      },
      "source": [
        "from torch.autograd import Variable\n",
        "from torch.optim import lr_scheduler"
      ],
      "execution_count": 0,
      "outputs": []
    },
    {
      "cell_type": "code",
      "metadata": {
        "id": "egONakZ3y-gZ",
        "colab_type": "code",
        "colab": {}
      },
      "source": [
        "def train(genA,genB,discA,discB,a_loader,b_loader,optimaizerG,optimaizerD,schedulerG,shedulerD,mse,l1,epochs=100,lamda=10,idt_coef=0.5):\n",
        "\n",
        "    a_fake_sample = Sample_from_Pool()\n",
        "    b_fake_sample = Sample_from_Pool()\n",
        "\n",
        "    # Для графиков\n",
        "    discA_losses_total=[]\n",
        "    discB_losses_total=[]\n",
        "    gen_losses_total=[]\n",
        "\n",
        "    for epoch in range(epochs):\n",
        "        discA_losses=[]\n",
        "        discB_losses=[]\n",
        "        gen_losses=[]\n",
        "        print('* Epoch %d/%d' % (epoch+1, epochs))\n",
        "        for i, (a_real, b_real) in enumerate(zip(a_loader, b_loader)):\n",
        "\n",
        "                # Временно мы не обучаем дискриминаторы, банкир ещё не видел монеты, пусть сначала их придумает фальшивомонетчик\n",
        "                for param in discA.parameters():\n",
        "                    param.requires_grad = False\n",
        "                for param in discB.parameters():\n",
        "                    param.requires_grad = False\n",
        "\n",
        "                # Зануляем\n",
        "                optimaizerG.zero_grad()\n",
        "\n",
        "                a_real = Variable(a_real[0])\n",
        "                b_real = Variable(b_real[0])\n",
        "                a_real, b_real = a_real.to(device), b_real.to(device)\n",
        "\n",
        "                # Сгенерируем фальшивых ходока и человека\n",
        "                a_fake = genA(b_real)\n",
        "                b_fake = genB(a_real)\n",
        "\n",
        "                # И попытаеся восстановить оригиналы\n",
        "                a_recon = genA(b_fake)\n",
        "                b_recon = genB(a_fake)\n",
        "\n",
        "                # А так же сделаем ходока из ходока и человека из человека\n",
        "                a_idt = genA(a_real)\n",
        "                b_idt = genB(b_real)\n",
        "\n",
        "                # Посчитаем лосс, насколько новаторскими они получились\n",
        "                a_idt_loss = l1(a_idt, a_real) * lamda * idt_coef\n",
        "                b_idt_loss = l1(b_idt, b_real) * lamda * idt_coef\n",
        "\n",
        "                # Посмотрим, примут ли наши дискриминаторы сгенерированных ходока и человека за настоящих\n",
        "                a_fake_dis = discA(a_fake)\n",
        "                b_fake_dis = discB(b_fake)\n",
        "\n",
        "                # Посмотрим, насколько хорошо подделывют ходоков и людей генераторы\n",
        "                real_label = Variable(torch.ones(a_fake_dis.size())).to(device)\n",
        "                a_gen_loss = mse(a_fake_dis, real_label)\n",
        "                b_gen_loss = mse(b_fake_dis, real_label)\n",
        "\n",
        "                # И посчитаем потери па полном обороте, между изначальной картинкой и восстановленной из генерированной\n",
        "                a_cycle_loss = l1(a_recon, a_real) * lamda\n",
        "                b_cycle_loss = l1(b_recon, b_real) * lamda\n",
        "\n",
        "                # Общий лосс будет считаться как сумма\n",
        "                gen_loss = a_gen_loss + b_gen_loss + a_cycle_loss + b_cycle_loss + a_idt_loss + b_idt_loss\n",
        "                gen_losses.append(gen_loss) # Это нам понадобится для графиков\n",
        "\n",
        "                # Улучшим модели\n",
        "                gen_loss.backward()\n",
        "                optimaizerG.step()\n",
        "\n",
        "                # Теперь проведём серьёзную беседу с дискриминаторами, для начала разморозим веса, иначе так и не научатся\n",
        "                for param in discA.parameters():\n",
        "                    param.requires_grad = True\n",
        "                for param in discB.parameters():\n",
        "                    param.requires_grad = True\n",
        "\n",
        "                # Зануляем\n",
        "                optimaizerD.zero_grad()\n",
        "\n",
        "                # Глянем на уже сгенерированные ранее изображения\n",
        "                a_fake = Variable(torch.Tensor(a_fake_sample([a_fake.cpu().data.numpy()])[0]))\n",
        "                b_fake = Variable(torch.Tensor(b_fake_sample([b_fake.cpu().data.numpy()])[0]))\n",
        "                a_fake, b_fake = a_fake.to(device),b_fake.to(device)\n",
        "\n",
        "                # Посмотрим, как дискриминаторы распознают изображения и зададим, что все фейковые - фейк (0), а настоящие - настоящие (1)\n",
        "                a_real_dis = discA(a_real)\n",
        "                a_fake_dis = discA(a_fake)\n",
        "                b_real_dis = discB(b_real)\n",
        "                b_fake_dis = discB(b_fake)\n",
        "                real_label = Variable(torch.ones(a_real_dis.size())).to(device)\n",
        "                fake_label = Variable(torch.zeros(a_fake_dis.size())).to(device)\n",
        "\n",
        "                # Посчитаем MSELoss\n",
        "                a_dis_real_loss = mse(a_real_dis, real_label)\n",
        "                a_dis_fake_loss = mse(a_fake_dis, fake_label)\n",
        "                b_dis_real_loss = mse(b_real_dis, real_label)\n",
        "                b_dis_fake_loss = mse(b_fake_dis, fake_label)\n",
        "\n",
        "                # Считаем общий лосс каждого из дискриминаторов\n",
        "                a_dis_loss = (a_dis_real_loss + a_dis_fake_loss)*0.5\n",
        "                b_dis_loss = (b_dis_real_loss + b_dis_fake_loss)*0.5\n",
        "                discA_losses.append(a_dis_loss)\n",
        "                discB_losses.append(b_dis_loss)\n",
        "\n",
        "                # Оптимизируем!\n",
        "                a_dis_loss.backward()\n",
        "                b_dis_loss.backward()\n",
        "                optimaizerD.step()\n",
        "\n",
        "                # Секундочку на реализацию красивого вывода\n",
        "                print(\"Epoch: (%3d) (%5d/%5d) | Gen Loss:%.2e | Dis Loss:%.2e\" % \n",
        "                                            (epoch+1, i + 1, min(len(a_loader), len(b_loader)),\n",
        "                                                            gen_loss,a_dis_loss+b_dis_loss))\n",
        "\n",
        "                # Меняем шедулеры\n",
        "                schedulerG.step()\n",
        "                schedulerD.step()\n",
        "\n",
        "        # После того, как сеть трагично вылетела после 12 часов вобучения и добавила эти строки, они появились после осознания того, что всё тлен, и от того особенно важны\n",
        "        if (epoch+1)%10==0:\n",
        "                  # сохранить веса нашей нейросети model\n",
        "                  torch.save(genA.state_dict(), \"gdrive/My Drive/leaky_got_genA\"+str(epoch+1)+\".pth\")\n",
        "                  torch.save(genB.state_dict(), \"gdrive/My Drive/leaky_got_genB\"+str(epoch+1)+\".pth\")\n",
        "                  torch.save(discA.state_dict(), \"gdrive/My Drive/leaky_got_discA\"+str(epoch+1)+\".pth\")\n",
        "                  torch.save(discB.state_dict(), \"gdrive/My Drive/leaky_got_discB\"+str(epoch+1)+\".pth\") \n",
        "\n",
        "\n",
        "        #И да, нам ведь нужны красивые графики\n",
        "        gen_losses_total.append(torch.mean(torch.Tensor(gen_losses)))\n",
        "        discA_losses_total.append(torch.mean(torch.Tensor(discA_losses)))  \n",
        "        discB_losses_total.append(torch.mean(torch.Tensor(discB_losses)))  \n",
        "        \n",
        "    return gen_losses_total, discA_losses_total, discB_losses_total\n",
        "\n",
        "\n",
        "\n"
      ],
      "execution_count": 0,
      "outputs": []
    },
    {
      "cell_type": "markdown",
      "metadata": {
        "id": "C_--NQukCosz",
        "colab_type": "text"
      },
      "source": [
        "# Ну и самое прекрасное: процесс обучения"
      ]
    },
    {
      "cell_type": "code",
      "metadata": {
        "id": "m5TftSd2bBCI",
        "colab_type": "code",
        "colab": {}
      },
      "source": [
        "import numpy as np"
      ],
      "execution_count": 0,
      "outputs": []
    },
    {
      "cell_type": "code",
      "metadata": {
        "id": "JP1gWZ7XNqv8",
        "colab_type": "code",
        "colab": {}
      },
      "source": [
        "epochs=40\n",
        "\n",
        "# Зададим сами сети\n",
        "genA = UnetGenerator()\n",
        "genB = UnetGenerator()\n",
        "discA = NLayerDiscriminator()\n",
        "discB = NLayerDiscriminator()\n",
        "\n",
        "# Оптимизаторы\n",
        "optimaizerG = torch.optim.Adam(itertools.chain(genA.parameters(),genB.parameters()), lr=.0002, betas=(0.5, 0.999))\n",
        "optimaizerD = torch.optim.Adam(itertools.chain(discA.parameters(),discB.parameters()), lr=.0002, betas=(0.5, 0.999))\n",
        "\n",
        "# Шедулеры\n",
        "schedulerG = torch.optim.lr_scheduler.StepLR(optimaizerG, 40, 0.5)\n",
        "schedulerD = torch.optim.lr_scheduler.StepLR(optimaizerD, 40, 0.5)\n",
        "\n",
        "# Функции потерь\n",
        "mse = nn.MSELoss()\n",
        "l1 = nn.L1Loss()"
      ],
      "execution_count": 0,
      "outputs": []
    },
    {
      "cell_type": "code",
      "metadata": {
        "id": "CHNzLAR4tN8H",
        "colab_type": "code",
        "outputId": "9a7ea74e-232e-472d-f4c7-f5acfccb146b",
        "colab": {
          "base_uri": "https://localhost:8080/",
          "height": 1000
        }
      },
      "source": [
        "gen_losses, discA_losses, discB_losses=train(genA,genB,discA,discB,people_loader,hodocs_loader,optimaizerG,optimaizerD,schedulerG,schedulerD,mse,l1,epochs=epochs)"
      ],
      "execution_count": 0,
      "outputs": [
        {
          "output_type": "stream",
          "text": [
            "* Epoch 1/40\n",
            "Epoch: (  1) (    1/    6) | Gen Loss:1.87e+01 | Dis Loss:1.28e+00\n",
            "Epoch: (  1) (    2/    6) | Gen Loss:1.30e+01 | Dis Loss:5.07e+00\n",
            "Epoch: (  1) (    3/    6) | Gen Loss:1.27e+01 | Dis Loss:2.88e+00\n",
            "Epoch: (  1) (    4/    6) | Gen Loss:1.28e+01 | Dis Loss:2.38e+00\n",
            "Epoch: (  1) (    5/    6) | Gen Loss:9.18e+00 | Dis Loss:6.46e-01\n",
            "Epoch: (  1) (    6/    6) | Gen Loss:1.04e+01 | Dis Loss:8.31e-01\n",
            "* Epoch 2/40\n",
            "Epoch: (  2) (    1/    6) | Gen Loss:1.14e+01 | Dis Loss:8.03e-01\n",
            "Epoch: (  2) (    2/    6) | Gen Loss:1.06e+01 | Dis Loss:5.80e-01\n",
            "Epoch: (  2) (    3/    6) | Gen Loss:5.82e+00 | Dis Loss:3.62e-01\n",
            "Epoch: (  2) (    4/    6) | Gen Loss:1.37e+01 | Dis Loss:3.37e-01\n",
            "Epoch: (  2) (    5/    6) | Gen Loss:1.68e+01 | Dis Loss:3.23e-01\n",
            "Epoch: (  2) (    6/    6) | Gen Loss:4.72e+00 | Dis Loss:5.34e-01\n",
            "* Epoch 3/40\n",
            "Epoch: (  3) (    1/    6) | Gen Loss:1.04e+01 | Dis Loss:3.40e-01\n",
            "Epoch: (  3) (    2/    6) | Gen Loss:7.30e+00 | Dis Loss:3.92e-01\n",
            "Epoch: (  3) (    3/    6) | Gen Loss:7.49e+00 | Dis Loss:6.12e-01\n",
            "Epoch: (  3) (    4/    6) | Gen Loss:1.16e+01 | Dis Loss:3.40e-01\n",
            "Epoch: (  3) (    5/    6) | Gen Loss:1.01e+01 | Dis Loss:5.32e-01\n",
            "Epoch: (  3) (    6/    6) | Gen Loss:6.33e+00 | Dis Loss:5.90e-01\n",
            "* Epoch 4/40\n",
            "Epoch: (  4) (    1/    6) | Gen Loss:6.88e+00 | Dis Loss:3.76e-01\n",
            "Epoch: (  4) (    2/    6) | Gen Loss:1.03e+01 | Dis Loss:2.91e-01\n",
            "Epoch: (  4) (    3/    6) | Gen Loss:1.06e+01 | Dis Loss:2.79e-01\n",
            "Epoch: (  4) (    4/    6) | Gen Loss:8.17e+00 | Dis Loss:2.57e-01\n",
            "Epoch: (  4) (    5/    6) | Gen Loss:6.65e+00 | Dis Loss:3.35e-01\n",
            "Epoch: (  4) (    6/    6) | Gen Loss:1.55e+01 | Dis Loss:4.26e-01\n",
            "* Epoch 5/40\n",
            "Epoch: (  5) (    1/    6) | Gen Loss:6.76e+00 | Dis Loss:3.74e-01\n",
            "Epoch: (  5) (    2/    6) | Gen Loss:8.94e+00 | Dis Loss:4.45e-01\n",
            "Epoch: (  5) (    3/    6) | Gen Loss:8.44e+00 | Dis Loss:2.42e-01\n",
            "Epoch: (  5) (    4/    6) | Gen Loss:7.43e+00 | Dis Loss:1.68e-01\n",
            "Epoch: (  5) (    5/    6) | Gen Loss:6.93e+00 | Dis Loss:3.16e-01\n",
            "Epoch: (  5) (    6/    6) | Gen Loss:4.88e+00 | Dis Loss:3.47e-01\n",
            "* Epoch 6/40\n",
            "Epoch: (  6) (    1/    6) | Gen Loss:6.09e+00 | Dis Loss:4.08e-01\n",
            "Epoch: (  6) (    2/    6) | Gen Loss:4.27e+00 | Dis Loss:2.62e-01\n",
            "Epoch: (  6) (    3/    6) | Gen Loss:5.15e+00 | Dis Loss:3.68e-01\n",
            "Epoch: (  6) (    4/    6) | Gen Loss:4.93e+00 | Dis Loss:3.36e-01\n",
            "Epoch: (  6) (    5/    6) | Gen Loss:5.74e+00 | Dis Loss:3.43e-01\n",
            "Epoch: (  6) (    6/    6) | Gen Loss:6.06e+00 | Dis Loss:6.04e-01\n",
            "* Epoch 7/40\n",
            "Epoch: (  7) (    1/    6) | Gen Loss:3.49e+00 | Dis Loss:4.83e-01\n",
            "Epoch: (  7) (    2/    6) | Gen Loss:4.62e+00 | Dis Loss:4.09e-01\n",
            "Epoch: (  7) (    3/    6) | Gen Loss:5.96e+00 | Dis Loss:2.16e-01\n",
            "Epoch: (  7) (    4/    6) | Gen Loss:5.52e+00 | Dis Loss:4.15e-01\n",
            "Epoch: (  7) (    5/    6) | Gen Loss:4.35e+00 | Dis Loss:4.26e-01\n",
            "Epoch: (  7) (    6/    6) | Gen Loss:4.50e+00 | Dis Loss:2.86e-01\n",
            "* Epoch 8/40\n",
            "Epoch: (  8) (    1/    6) | Gen Loss:4.17e+00 | Dis Loss:1.97e-01\n",
            "Epoch: (  8) (    2/    6) | Gen Loss:3.68e+00 | Dis Loss:2.10e-01\n",
            "Epoch: (  8) (    3/    6) | Gen Loss:3.32e+00 | Dis Loss:2.60e-01\n",
            "Epoch: (  8) (    4/    6) | Gen Loss:4.33e+00 | Dis Loss:1.60e-01\n",
            "Epoch: (  8) (    5/    6) | Gen Loss:4.59e+00 | Dis Loss:1.91e-01\n",
            "Epoch: (  8) (    6/    6) | Gen Loss:4.16e+00 | Dis Loss:1.63e-01\n",
            "* Epoch 9/40\n",
            "Epoch: (  9) (    1/    6) | Gen Loss:4.16e+00 | Dis Loss:1.75e-01\n",
            "Epoch: (  9) (    2/    6) | Gen Loss:4.11e+00 | Dis Loss:1.02e-01\n",
            "Epoch: (  9) (    3/    6) | Gen Loss:4.61e+00 | Dis Loss:3.84e-01\n",
            "Epoch: (  9) (    4/    6) | Gen Loss:2.99e+00 | Dis Loss:2.21e-01\n",
            "Epoch: (  9) (    5/    6) | Gen Loss:3.18e+00 | Dis Loss:2.35e-01\n",
            "Epoch: (  9) (    6/    6) | Gen Loss:3.66e+00 | Dis Loss:1.46e-01\n",
            "* Epoch 10/40\n",
            "Epoch: ( 10) (    1/    6) | Gen Loss:4.11e+00 | Dis Loss:1.65e-01\n",
            "Epoch: ( 10) (    2/    6) | Gen Loss:3.59e+00 | Dis Loss:1.67e-01\n",
            "Epoch: ( 10) (    3/    6) | Gen Loss:4.39e+00 | Dis Loss:9.12e-02\n",
            "Epoch: ( 10) (    4/    6) | Gen Loss:3.73e+00 | Dis Loss:1.22e-01\n",
            "Epoch: ( 10) (    5/    6) | Gen Loss:3.77e+00 | Dis Loss:1.09e-01\n",
            "Epoch: ( 10) (    6/    6) | Gen Loss:3.69e+00 | Dis Loss:1.63e-01\n",
            "* Epoch 11/40\n",
            "Epoch: ( 11) (    1/    6) | Gen Loss:3.85e+00 | Dis Loss:2.23e-01\n",
            "Epoch: ( 11) (    2/    6) | Gen Loss:3.44e+00 | Dis Loss:1.66e-01\n",
            "Epoch: ( 11) (    3/    6) | Gen Loss:3.04e+00 | Dis Loss:2.56e-01\n",
            "Epoch: ( 11) (    4/    6) | Gen Loss:2.81e+00 | Dis Loss:1.96e-01\n",
            "Epoch: ( 11) (    5/    6) | Gen Loss:3.26e+00 | Dis Loss:2.18e-01\n",
            "Epoch: ( 11) (    6/    6) | Gen Loss:3.25e+00 | Dis Loss:1.13e-01\n",
            "* Epoch 12/40\n",
            "Epoch: ( 12) (    1/    6) | Gen Loss:3.73e+00 | Dis Loss:1.88e-01\n",
            "Epoch: ( 12) (    2/    6) | Gen Loss:4.05e+00 | Dis Loss:1.91e-01\n",
            "Epoch: ( 12) (    3/    6) | Gen Loss:3.44e+00 | Dis Loss:1.59e-01\n",
            "Epoch: ( 12) (    4/    6) | Gen Loss:4.29e+00 | Dis Loss:4.36e-01\n",
            "Epoch: ( 12) (    5/    6) | Gen Loss:2.90e+00 | Dis Loss:2.04e-01\n",
            "Epoch: ( 12) (    6/    6) | Gen Loss:3.97e+00 | Dis Loss:2.41e-01\n",
            "* Epoch 13/40\n",
            "Epoch: ( 13) (    1/    6) | Gen Loss:3.19e+00 | Dis Loss:3.22e-01\n",
            "Epoch: ( 13) (    2/    6) | Gen Loss:4.31e+00 | Dis Loss:1.04e-01\n",
            "Epoch: ( 13) (    3/    6) | Gen Loss:3.44e+00 | Dis Loss:1.07e-01\n",
            "Epoch: ( 13) (    4/    6) | Gen Loss:3.57e+00 | Dis Loss:7.00e-02\n",
            "Epoch: ( 13) (    5/    6) | Gen Loss:4.24e+00 | Dis Loss:2.82e-01\n",
            "Epoch: ( 13) (    6/    6) | Gen Loss:2.66e+00 | Dis Loss:1.56e-01\n",
            "* Epoch 14/40\n",
            "Epoch: ( 14) (    1/    6) | Gen Loss:2.97e+00 | Dis Loss:1.54e-01\n",
            "Epoch: ( 14) (    2/    6) | Gen Loss:4.64e+00 | Dis Loss:9.53e-02\n",
            "Epoch: ( 14) (    3/    6) | Gen Loss:2.82e+00 | Dis Loss:1.52e-01\n",
            "Epoch: ( 14) (    4/    6) | Gen Loss:2.36e+00 | Dis Loss:1.91e-01\n",
            "Epoch: ( 14) (    5/    6) | Gen Loss:2.83e+00 | Dis Loss:1.24e-01\n",
            "Epoch: ( 14) (    6/    6) | Gen Loss:3.96e+00 | Dis Loss:6.23e-02\n",
            "* Epoch 15/40\n",
            "Epoch: ( 15) (    1/    6) | Gen Loss:3.40e+00 | Dis Loss:2.20e-01\n",
            "Epoch: ( 15) (    2/    6) | Gen Loss:2.99e+00 | Dis Loss:5.16e-02\n",
            "Epoch: ( 15) (    3/    6) | Gen Loss:4.44e+00 | Dis Loss:1.58e-01\n",
            "Epoch: ( 15) (    4/    6) | Gen Loss:2.47e+00 | Dis Loss:1.14e-01\n",
            "Epoch: ( 15) (    5/    6) | Gen Loss:2.74e+00 | Dis Loss:1.08e-01\n",
            "Epoch: ( 15) (    6/    6) | Gen Loss:3.04e+00 | Dis Loss:5.97e-02\n",
            "* Epoch 16/40\n",
            "Epoch: ( 16) (    1/    6) | Gen Loss:2.87e+00 | Dis Loss:8.04e-02\n",
            "Epoch: ( 16) (    2/    6) | Gen Loss:4.31e+00 | Dis Loss:1.62e-01\n",
            "Epoch: ( 16) (    3/    6) | Gen Loss:2.81e+00 | Dis Loss:5.63e-02\n",
            "Epoch: ( 16) (    4/    6) | Gen Loss:2.99e+00 | Dis Loss:1.62e-01\n",
            "Epoch: ( 16) (    5/    6) | Gen Loss:3.12e+00 | Dis Loss:9.42e-02\n",
            "Epoch: ( 16) (    6/    6) | Gen Loss:3.18e+00 | Dis Loss:5.10e-02\n",
            "* Epoch 17/40\n",
            "Epoch: ( 17) (    1/    6) | Gen Loss:3.47e+00 | Dis Loss:8.16e-02\n",
            "Epoch: ( 17) (    2/    6) | Gen Loss:3.13e+00 | Dis Loss:1.23e-01\n",
            "Epoch: ( 17) (    3/    6) | Gen Loss:5.12e+00 | Dis Loss:7.54e-02\n",
            "Epoch: ( 17) (    4/    6) | Gen Loss:3.86e+00 | Dis Loss:5.52e-02\n",
            "Epoch: ( 17) (    5/    6) | Gen Loss:5.53e+00 | Dis Loss:1.15e-01\n",
            "Epoch: ( 17) (    6/    6) | Gen Loss:3.68e+00 | Dis Loss:1.86e-01\n",
            "* Epoch 18/40\n",
            "Epoch: ( 18) (    1/    6) | Gen Loss:3.11e+00 | Dis Loss:6.56e-02\n",
            "Epoch: ( 18) (    2/    6) | Gen Loss:3.75e+00 | Dis Loss:3.04e-01\n",
            "Epoch: ( 18) (    3/    6) | Gen Loss:3.48e+00 | Dis Loss:1.43e-01\n",
            "Epoch: ( 18) (    4/    6) | Gen Loss:4.13e+00 | Dis Loss:9.09e-02\n",
            "Epoch: ( 18) (    5/    6) | Gen Loss:3.42e+00 | Dis Loss:8.26e-02\n",
            "Epoch: ( 18) (    6/    6) | Gen Loss:2.59e+00 | Dis Loss:2.39e-01\n",
            "* Epoch 19/40\n",
            "Epoch: ( 19) (    1/    6) | Gen Loss:3.38e+00 | Dis Loss:6.45e-02\n",
            "Epoch: ( 19) (    2/    6) | Gen Loss:4.83e+00 | Dis Loss:1.00e-01\n",
            "Epoch: ( 19) (    3/    6) | Gen Loss:2.48e+00 | Dis Loss:1.21e-01\n",
            "Epoch: ( 19) (    4/    6) | Gen Loss:3.80e+00 | Dis Loss:6.31e-02\n",
            "Epoch: ( 19) (    5/    6) | Gen Loss:3.28e+00 | Dis Loss:1.54e-01\n",
            "Epoch: ( 19) (    6/    6) | Gen Loss:4.32e+00 | Dis Loss:1.02e-01\n",
            "* Epoch 20/40\n",
            "Epoch: ( 20) (    1/    6) | Gen Loss:3.11e+00 | Dis Loss:1.59e-01\n",
            "Epoch: ( 20) (    2/    6) | Gen Loss:2.75e+00 | Dis Loss:1.81e-01\n",
            "Epoch: ( 20) (    3/    6) | Gen Loss:3.78e+00 | Dis Loss:9.77e-02\n",
            "Epoch: ( 20) (    4/    6) | Gen Loss:3.01e+00 | Dis Loss:1.63e-01\n",
            "Epoch: ( 20) (    5/    6) | Gen Loss:3.31e+00 | Dis Loss:1.94e-01\n",
            "Epoch: ( 20) (    6/    6) | Gen Loss:3.50e+00 | Dis Loss:8.58e-02\n",
            "* Epoch 21/40\n",
            "Epoch: ( 21) (    1/    6) | Gen Loss:3.61e+00 | Dis Loss:6.62e-02\n",
            "Epoch: ( 21) (    2/    6) | Gen Loss:3.40e+00 | Dis Loss:1.98e-01\n",
            "Epoch: ( 21) (    3/    6) | Gen Loss:2.95e+00 | Dis Loss:9.99e-02\n",
            "Epoch: ( 21) (    4/    6) | Gen Loss:5.17e+00 | Dis Loss:1.05e-01\n",
            "Epoch: ( 21) (    5/    6) | Gen Loss:3.76e+00 | Dis Loss:6.59e-02\n",
            "Epoch: ( 21) (    6/    6) | Gen Loss:2.83e+00 | Dis Loss:1.07e-01\n",
            "* Epoch 22/40\n",
            "Epoch: ( 22) (    1/    6) | Gen Loss:2.89e+00 | Dis Loss:5.83e-02\n",
            "Epoch: ( 22) (    2/    6) | Gen Loss:3.02e+00 | Dis Loss:1.10e-01\n",
            "Epoch: ( 22) (    3/    6) | Gen Loss:3.42e+00 | Dis Loss:8.75e-02\n",
            "Epoch: ( 22) (    4/    6) | Gen Loss:3.24e+00 | Dis Loss:1.67e-01\n",
            "Epoch: ( 22) (    5/    6) | Gen Loss:3.73e+00 | Dis Loss:7.14e-02\n",
            "Epoch: ( 22) (    6/    6) | Gen Loss:3.85e+00 | Dis Loss:1.05e-01\n",
            "* Epoch 23/40\n",
            "Epoch: ( 23) (    1/    6) | Gen Loss:3.75e+00 | Dis Loss:1.22e-01\n",
            "Epoch: ( 23) (    2/    6) | Gen Loss:3.47e+00 | Dis Loss:6.42e-02\n",
            "Epoch: ( 23) (    3/    6) | Gen Loss:2.59e+00 | Dis Loss:1.71e-01\n",
            "Epoch: ( 23) (    4/    6) | Gen Loss:3.62e+00 | Dis Loss:7.85e-02\n",
            "Epoch: ( 23) (    5/    6) | Gen Loss:3.99e+00 | Dis Loss:8.66e-02\n",
            "Epoch: ( 23) (    6/    6) | Gen Loss:4.22e+00 | Dis Loss:1.11e-01\n",
            "* Epoch 24/40\n",
            "Epoch: ( 24) (    1/    6) | Gen Loss:3.98e+00 | Dis Loss:1.28e-01\n",
            "Epoch: ( 24) (    2/    6) | Gen Loss:2.84e+00 | Dis Loss:2.21e-01\n",
            "Epoch: ( 24) (    3/    6) | Gen Loss:3.14e+00 | Dis Loss:9.65e-02\n",
            "Epoch: ( 24) (    4/    6) | Gen Loss:3.65e+00 | Dis Loss:1.71e-01\n",
            "Epoch: ( 24) (    5/    6) | Gen Loss:3.81e+00 | Dis Loss:1.48e-01\n",
            "Epoch: ( 24) (    6/    6) | Gen Loss:3.49e+00 | Dis Loss:9.05e-02\n",
            "* Epoch 25/40\n",
            "Epoch: ( 25) (    1/    6) | Gen Loss:3.68e+00 | Dis Loss:1.43e-01\n",
            "Epoch: ( 25) (    2/    6) | Gen Loss:3.91e+00 | Dis Loss:1.92e-01\n",
            "Epoch: ( 25) (    3/    6) | Gen Loss:3.74e+00 | Dis Loss:8.78e-02\n",
            "Epoch: ( 25) (    4/    6) | Gen Loss:4.66e+00 | Dis Loss:7.68e-02\n",
            "Epoch: ( 25) (    5/    6) | Gen Loss:3.81e+00 | Dis Loss:1.12e-01\n",
            "Epoch: ( 25) (    6/    6) | Gen Loss:4.25e+00 | Dis Loss:1.29e-01\n",
            "* Epoch 26/40\n",
            "Epoch: ( 26) (    1/    6) | Gen Loss:4.81e+00 | Dis Loss:1.55e-01\n",
            "Epoch: ( 26) (    2/    6) | Gen Loss:3.65e+00 | Dis Loss:1.29e-01\n",
            "Epoch: ( 26) (    3/    6) | Gen Loss:4.54e+00 | Dis Loss:7.68e-02\n",
            "Epoch: ( 26) (    4/    6) | Gen Loss:4.23e+00 | Dis Loss:3.97e-02\n",
            "Epoch: ( 26) (    5/    6) | Gen Loss:2.17e+00 | Dis Loss:3.75e-01\n",
            "Epoch: ( 26) (    6/    6) | Gen Loss:3.00e+00 | Dis Loss:5.53e-02\n",
            "* Epoch 27/40\n",
            "Epoch: ( 27) (    1/    6) | Gen Loss:3.37e+00 | Dis Loss:1.41e-01\n",
            "Epoch: ( 27) (    2/    6) | Gen Loss:3.22e+00 | Dis Loss:4.06e-02\n",
            "Epoch: ( 27) (    3/    6) | Gen Loss:3.27e+00 | Dis Loss:1.31e-01\n",
            "Epoch: ( 27) (    4/    6) | Gen Loss:4.22e+00 | Dis Loss:4.50e-02\n",
            "Epoch: ( 27) (    5/    6) | Gen Loss:3.22e+00 | Dis Loss:1.62e-01\n",
            "Epoch: ( 27) (    6/    6) | Gen Loss:2.90e+00 | Dis Loss:2.04e-01\n",
            "* Epoch 28/40\n",
            "Epoch: ( 28) (    1/    6) | Gen Loss:2.91e+00 | Dis Loss:8.39e-02\n",
            "Epoch: ( 28) (    2/    6) | Gen Loss:2.77e+00 | Dis Loss:1.67e-01\n",
            "Epoch: ( 28) (    3/    6) | Gen Loss:3.52e+00 | Dis Loss:1.90e-01\n",
            "Epoch: ( 28) (    4/    6) | Gen Loss:3.38e+00 | Dis Loss:1.92e-01\n",
            "Epoch: ( 28) (    5/    6) | Gen Loss:3.01e+00 | Dis Loss:1.76e-01\n",
            "Epoch: ( 28) (    6/    6) | Gen Loss:3.12e+00 | Dis Loss:1.51e-01\n",
            "* Epoch 29/40\n",
            "Epoch: ( 29) (    1/    6) | Gen Loss:4.44e+00 | Dis Loss:1.27e-01\n",
            "Epoch: ( 29) (    2/    6) | Gen Loss:3.06e+00 | Dis Loss:1.36e-01\n",
            "Epoch: ( 29) (    3/    6) | Gen Loss:3.17e+00 | Dis Loss:1.36e-01\n",
            "Epoch: ( 29) (    4/    6) | Gen Loss:2.98e+00 | Dis Loss:2.21e-01\n",
            "Epoch: ( 29) (    5/    6) | Gen Loss:3.90e+00 | Dis Loss:1.07e-01\n",
            "Epoch: ( 29) (    6/    6) | Gen Loss:2.99e+00 | Dis Loss:1.56e-01\n",
            "* Epoch 30/40\n",
            "Epoch: ( 30) (    1/    6) | Gen Loss:3.53e+00 | Dis Loss:6.24e-02\n",
            "Epoch: ( 30) (    2/    6) | Gen Loss:3.02e+00 | Dis Loss:2.34e-01\n",
            "Epoch: ( 30) (    3/    6) | Gen Loss:3.63e+00 | Dis Loss:4.39e-02\n",
            "Epoch: ( 30) (    4/    6) | Gen Loss:3.77e+00 | Dis Loss:7.93e-02\n",
            "Epoch: ( 30) (    5/    6) | Gen Loss:3.72e+00 | Dis Loss:1.14e-01\n",
            "Epoch: ( 30) (    6/    6) | Gen Loss:4.67e+00 | Dis Loss:1.36e-01\n",
            "* Epoch 31/40\n",
            "Epoch: ( 31) (    1/    6) | Gen Loss:4.80e+00 | Dis Loss:1.31e-01\n",
            "Epoch: ( 31) (    2/    6) | Gen Loss:4.27e+00 | Dis Loss:8.00e-02\n",
            "Epoch: ( 31) (    3/    6) | Gen Loss:2.96e+00 | Dis Loss:8.97e-02\n",
            "Epoch: ( 31) (    4/    6) | Gen Loss:3.19e+00 | Dis Loss:1.42e-01\n",
            "Epoch: ( 31) (    5/    6) | Gen Loss:3.88e+00 | Dis Loss:5.87e-02\n",
            "Epoch: ( 31) (    6/    6) | Gen Loss:4.48e+00 | Dis Loss:1.02e-01\n",
            "* Epoch 32/40\n",
            "Epoch: ( 32) (    1/    6) | Gen Loss:3.45e+00 | Dis Loss:9.48e-02\n",
            "Epoch: ( 32) (    2/    6) | Gen Loss:2.86e+00 | Dis Loss:5.86e-02\n",
            "Epoch: ( 32) (    3/    6) | Gen Loss:3.54e+00 | Dis Loss:2.63e-01\n",
            "Epoch: ( 32) (    4/    6) | Gen Loss:3.43e+00 | Dis Loss:1.21e-01\n",
            "Epoch: ( 32) (    5/    6) | Gen Loss:2.97e+00 | Dis Loss:1.98e-01\n",
            "Epoch: ( 32) (    6/    6) | Gen Loss:4.73e+00 | Dis Loss:9.67e-02\n",
            "* Epoch 33/40\n",
            "Epoch: ( 33) (    1/    6) | Gen Loss:3.34e+00 | Dis Loss:1.11e-01\n",
            "Epoch: ( 33) (    2/    6) | Gen Loss:4.36e+00 | Dis Loss:1.30e-01\n",
            "Epoch: ( 33) (    3/    6) | Gen Loss:3.92e+00 | Dis Loss:5.40e-02\n",
            "Epoch: ( 33) (    4/    6) | Gen Loss:3.34e+00 | Dis Loss:1.64e-01\n",
            "Epoch: ( 33) (    5/    6) | Gen Loss:1.97e+00 | Dis Loss:3.17e-01\n",
            "Epoch: ( 33) (    6/    6) | Gen Loss:2.74e+00 | Dis Loss:1.87e-01\n",
            "* Epoch 34/40\n",
            "Epoch: ( 34) (    1/    6) | Gen Loss:6.58e+00 | Dis Loss:2.28e-01\n",
            "Epoch: ( 34) (    2/    6) | Gen Loss:2.70e+00 | Dis Loss:3.50e-01\n",
            "Epoch: ( 34) (    3/    6) | Gen Loss:2.53e+00 | Dis Loss:1.39e-01\n",
            "Epoch: ( 34) (    4/    6) | Gen Loss:2.74e+00 | Dis Loss:1.70e-01\n",
            "Epoch: ( 34) (    5/    6) | Gen Loss:4.11e+00 | Dis Loss:1.04e-01\n",
            "Epoch: ( 34) (    6/    6) | Gen Loss:2.65e+00 | Dis Loss:1.36e-01\n",
            "* Epoch 35/40\n",
            "Epoch: ( 35) (    1/    6) | Gen Loss:3.68e+00 | Dis Loss:5.21e-02\n",
            "Epoch: ( 35) (    2/    6) | Gen Loss:3.92e+00 | Dis Loss:1.91e-01\n",
            "Epoch: ( 35) (    3/    6) | Gen Loss:2.59e+00 | Dis Loss:1.49e-01\n",
            "Epoch: ( 35) (    4/    6) | Gen Loss:4.33e+00 | Dis Loss:9.52e-02\n",
            "Epoch: ( 35) (    5/    6) | Gen Loss:3.95e+00 | Dis Loss:7.87e-02\n",
            "Epoch: ( 35) (    6/    6) | Gen Loss:3.24e+00 | Dis Loss:4.80e-02\n",
            "* Epoch 36/40\n",
            "Epoch: ( 36) (    1/    6) | Gen Loss:3.31e+00 | Dis Loss:1.26e-01\n",
            "Epoch: ( 36) (    2/    6) | Gen Loss:3.71e+00 | Dis Loss:7.28e-02\n",
            "Epoch: ( 36) (    3/    6) | Gen Loss:3.67e+00 | Dis Loss:6.71e-02\n",
            "Epoch: ( 36) (    4/    6) | Gen Loss:3.89e+00 | Dis Loss:1.12e-01\n",
            "Epoch: ( 36) (    5/    6) | Gen Loss:4.13e+00 | Dis Loss:9.74e-02\n",
            "Epoch: ( 36) (    6/    6) | Gen Loss:3.43e+00 | Dis Loss:2.01e-01\n",
            "* Epoch 37/40\n",
            "Epoch: ( 37) (    1/    6) | Gen Loss:3.71e+00 | Dis Loss:6.71e-02\n",
            "Epoch: ( 37) (    2/    6) | Gen Loss:3.67e+00 | Dis Loss:7.91e-02\n",
            "Epoch: ( 37) (    3/    6) | Gen Loss:2.34e+00 | Dis Loss:1.87e-01\n",
            "Epoch: ( 37) (    4/    6) | Gen Loss:3.83e+00 | Dis Loss:8.95e-02\n",
            "Epoch: ( 37) (    5/    6) | Gen Loss:4.04e+00 | Dis Loss:3.12e-01\n",
            "Epoch: ( 37) (    6/    6) | Gen Loss:3.17e+00 | Dis Loss:1.40e-01\n",
            "* Epoch 38/40\n",
            "Epoch: ( 38) (    1/    6) | Gen Loss:3.78e+00 | Dis Loss:8.60e-02\n",
            "Epoch: ( 38) (    2/    6) | Gen Loss:4.73e+00 | Dis Loss:8.60e-02\n",
            "Epoch: ( 38) (    3/    6) | Gen Loss:3.25e+00 | Dis Loss:2.54e-01\n",
            "Epoch: ( 38) (    4/    6) | Gen Loss:3.63e+00 | Dis Loss:6.82e-02\n",
            "Epoch: ( 38) (    5/    6) | Gen Loss:3.05e+00 | Dis Loss:1.12e-01\n",
            "Epoch: ( 38) (    6/    6) | Gen Loss:3.17e+00 | Dis Loss:1.03e-01\n",
            "* Epoch 39/40\n",
            "Epoch: ( 39) (    1/    6) | Gen Loss:4.61e+00 | Dis Loss:1.50e-01\n",
            "Epoch: ( 39) (    2/    6) | Gen Loss:3.83e+00 | Dis Loss:6.81e-02\n",
            "Epoch: ( 39) (    3/    6) | Gen Loss:3.76e+00 | Dis Loss:4.96e-02\n",
            "Epoch: ( 39) (    4/    6) | Gen Loss:3.39e+00 | Dis Loss:1.14e-01\n",
            "Epoch: ( 39) (    5/    6) | Gen Loss:3.33e+00 | Dis Loss:6.30e-02\n",
            "Epoch: ( 39) (    6/    6) | Gen Loss:2.90e+00 | Dis Loss:1.49e-01\n",
            "* Epoch 40/40\n",
            "Epoch: ( 40) (    1/    6) | Gen Loss:2.75e+00 | Dis Loss:1.27e-01\n",
            "Epoch: ( 40) (    2/    6) | Gen Loss:5.20e+00 | Dis Loss:2.93e-01\n",
            "Epoch: ( 40) (    3/    6) | Gen Loss:3.61e+00 | Dis Loss:2.19e-01\n",
            "Epoch: ( 40) (    4/    6) | Gen Loss:4.13e+00 | Dis Loss:8.96e-02\n",
            "Epoch: ( 40) (    5/    6) | Gen Loss:3.36e+00 | Dis Loss:2.65e-01\n",
            "Epoch: ( 40) (    6/    6) | Gen Loss:3.49e+00 | Dis Loss:5.37e-02\n"
          ],
          "name": "stdout"
        }
      ]
    },
    {
      "cell_type": "markdown",
      "metadata": {
        "id": "Ybm-W7lSDASi",
        "colab_type": "text"
      },
      "source": [
        "Посмотрим на прекрасный график"
      ]
    },
    {
      "cell_type": "code",
      "metadata": {
        "id": "PhosyMilmSC-",
        "colab_type": "code",
        "outputId": "e289008c-4e35-4b3c-9cdc-c9aa05bd8a54",
        "colab": {
          "base_uri": "https://localhost:8080/",
          "height": 265
        }
      },
      "source": [
        "import matplotlib.pyplot as plt\n",
        "\n",
        "plt.plot(range(len(gen_losses)), gen_losses, label='gen loss')\n",
        "plt.plot(range(len(discA_losses)), discA_losses, label='discA loss')\n",
        "plt.plot(range(len(discB_losses)), discB_losses, label='discB loss')\n",
        "plt.legend()\n",
        "plt.show()"
      ],
      "execution_count": 0,
      "outputs": [
        {
          "output_type": "display_data",
          "data": {
            "image/png": "[encoded data removed]",
            "text/plain": [
              "<Figure size 432x288 with 1 Axes>"
            ]
          },
          "metadata": {
            "tags": [],
            "needs_background": "light"
          }
        }
      ]
    },
    {
      "cell_type": "markdown",
      "metadata": {
        "id": "RpPQLhkSDGBj",
        "colab_type": "text"
      },
      "source": [
        "Ну и, наконец, получим результат"
      ]
    },
    {
      "cell_type": "code",
      "metadata": {
        "id": "8k6kJ46YrJ5m",
        "colab_type": "code",
        "colab": {}
      },
      "source": [
        "a_real_test = Variable(iter(people_loader).next()[0], requires_grad=True)\n",
        "b_real_test = Variable(iter(hodocs_loader).next()[0], requires_grad=True)\n",
        "a_real_test, b_real_test = a_real_test.to(device), b_real_test.to(device)\n",
        "        \n",
        "\n",
        "genA.eval()\n",
        "genB.eval()\n",
        "\n",
        "with torch.no_grad():\n",
        "    a_fake_test = genA(b_real_test)\n",
        "    b_fake_test = genB(a_real_test)\n",
        "    a_recon_test = genA(b_fake_test)\n",
        "    b_recon_test = genB(a_fake_test)\n",
        "\n",
        "pic = (torch.cat([a_real_test, b_fake_test, a_recon_test, b_real_test, a_fake_test, b_recon_test], dim=0).data+0.5) / 2.0\n",
        "\n"
      ],
      "execution_count": 0,
      "outputs": []
    },
    {
      "cell_type": "code",
      "metadata": {
        "id": "4npVRIROrvwS",
        "colab_type": "code",
        "colab": {}
      },
      "source": [
        "import torchvision"
      ],
      "execution_count": 0,
      "outputs": []
    },
    {
      "cell_type": "markdown",
      "metadata": {
        "id": "H3PKo_FFDOfS",
        "colab_type": "text"
      },
      "source": [
        "Можете создать отдельную папку p2h_results и сохранить туда"
      ]
    },
    {
      "cell_type": "code",
      "metadata": {
        "id": "lN8taMTtxfIQ",
        "colab_type": "code",
        "colab": {}
      },
      "source": [
        "torchvision.utils.save_image(pic, 'gdrive/My Drive/p2h_results/leaky_got_aug_unet_sample_result'+str(epochs)+'.jpg', nrow=3)"
      ],
      "execution_count": 0,
      "outputs": []
    },
    {
      "cell_type": "markdown",
      "metadata": {
        "id": "UkVHf6jIDYpK",
        "colab_type": "text"
      },
      "source": [
        "Или просто к корневую"
      ]
    },
    {
      "cell_type": "code",
      "metadata": {
        "id": "97VYFPg-9GIa",
        "colab_type": "code",
        "colab": {}
      },
      "source": [
        "torchvision.utils.save_image(pic, 'gdrive/My Drive/leaky_got_aug_unet_sample_result'+str(epochs)+'.jpg', nrow=3)"
      ],
      "execution_count": 0,
      "outputs": []
    },
    {
      "cell_type": "markdown",
      "metadata": {
        "id": "HHauNaNSjhBo",
        "colab_type": "text"
      },
      "source": [
        "# Фанатам Игры Престолов посвещается"
      ]
    },
    {
      "cell_type": "markdown",
      "metadata": {
        "id": "ugLhUXIHDbtG",
        "colab_type": "text"
      },
      "source": [
        "Ну и в завершение скажу, что пока сеть работает не идельно, но проблема лишь в небольшом датасетею При его расширении результат будет гораздо круче. Поэтому всех фанатов игры престолов призываю стать контрибьютерами)\n",
        "Уже охвачены - все подходящие картинки из гугла и серия 8 сезона, где происходит битва с ходоками. Всем желающим пересмтореть шедевр и пособирать скриншоты для этого проекта буду рада!"
      ]
    }
  ]
}